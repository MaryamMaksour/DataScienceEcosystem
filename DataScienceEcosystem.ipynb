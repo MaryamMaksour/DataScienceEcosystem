{
  "nbformat": 4,
  "nbformat_minor": 0,
  "metadata": {
    "colab": {
      "provenance": [],
      "authorship_tag": "ABX9TyNz+jMjDcPPr3D7hb/3jha3",
      "include_colab_link": true
    },
    "kernelspec": {
      "name": "python3",
      "display_name": "Python 3"
    },
    "language_info": {
      "name": "python"
    }
  },
  "cells": [
    {
      "cell_type": "markdown",
      "metadata": {
        "id": "view-in-github",
        "colab_type": "text"
      },
      "source": [
        "<a href=\"https://colab.research.google.com/github/MaryamMaksour/DataScienceEcosystem/blob/main/DataScienceEcosystem.ipynb\" target=\"_parent\"><img src=\"https://colab.research.google.com/assets/colab-badge.svg\" alt=\"Open In Colab\"/></a>"
      ]
    },
    {
      "cell_type": "markdown",
      "source": [
        "<h1> Data Science Tools and Ecosystem</h1>\n"
      ],
      "metadata": {
        "id": "gaZGwiNj6ZVD"
      }
    },
    {
      "cell_type": "markdown",
      "source": [
        "In this notebook, Data Science Tools and Ecosystem are summarized."
      ],
      "metadata": {
        "id": "gG1bvUcO6-Nl"
      }
    },
    {
      "cell_type": "markdown",
      "source": [
        "**Objectives:**\n",
        "\n",
        "<ul>\n",
        "  <li> List popular languages for Data Science </li>\n",
        "  <li> List popular languages that Data Scientists use</li>\n",
        "  <li>List popular Data Science tools</li>\n",
        "  <li> introducing arithmetic expression examples in python </li>\n",
        "</ul>"
      ],
      "metadata": {
        "id": "hx6eR3zA6qk7"
      }
    },
    {
      "cell_type": "markdown",
      "source": [
        "Some of the popular languages that Data Scientists use are:\n",
        "<ol>\n",
        "  <li> python</li>\n",
        "  <li> R</li>\n",
        "  <li> c++ </li>\n",
        "  <li> java</li>\n",
        "  <li> Matlab </li>\n",
        "\n",
        "</ol>\n",
        "\n"
      ],
      "metadata": {
        "id": "0YKOKKOZ7eo5"
      }
    },
    {
      "cell_type": "markdown",
      "source": [
        "Some of the commonly used libraries used by Data Scientists include:\n",
        "\n",
        "<ol>\n",
        "  <li> pyblot</li>\n",
        "  <li> matplotlib</li>\n",
        "  <li> pandas </li>\n",
        "  <li> Numpy</li>\n",
        "  <li> seaborn </li>\n",
        "\n",
        "</ol>\n",
        "\n"
      ],
      "metadata": {
        "id": "rbotukUq8fkp"
      }
    },
    {
      "cell_type": "markdown",
      "source": [
        "<table>\n",
        "\n",
        "<tr>\n",
        "<th>Data Science Tools </th>\n",
        "</tr>\n",
        "<tr> <td>Jupyter Notebook </td> </tr>\n",
        "<tr> <td>google colab </td> </tr>\n",
        "<tr> <td>RStudio </td> </tr>\n",
        "\n",
        "\n",
        "</table>"
      ],
      "metadata": {
        "id": "Lz3ZJvU22NFI"
      }
    },
    {
      "cell_type": "markdown",
      "source": [
        "<h3> Below are a few examples of evaluating arithmetic expressions in Python.</h3>\n"
      ],
      "metadata": {
        "id": "3CeTdPjj5QPz"
      }
    },
    {
      "cell_type": "code",
      "source": [
        "# This a simple arithmetic expression to mutiply then add integers\n",
        "\n",
        "(3*4)+5\n"
      ],
      "metadata": {
        "colab": {
          "base_uri": "https://localhost:8080/"
        },
        "id": "sXK-GQre5XMj",
        "outputId": "fd6bd05c-672b-4901-9dcc-065e0af0be21"
      },
      "execution_count": 1,
      "outputs": [
        {
          "output_type": "execute_result",
          "data": {
            "text/plain": [
              "17"
            ]
          },
          "metadata": {},
          "execution_count": 1
        }
      ]
    },
    {
      "cell_type": "code",
      "source": [
        "# This will convert 200 minutes to hours by diving by 60\n",
        "\n",
        "minutes = 200\n",
        "hours = minutes // 60\n",
        "print(hours)"
      ],
      "metadata": {
        "colab": {
          "base_uri": "https://localhost:8080/"
        },
        "id": "UHYV2-l45_Vm",
        "outputId": "b4416597-3092-4d0f-9617-34803fdadd23"
      },
      "execution_count": 3,
      "outputs": [
        {
          "output_type": "stream",
          "name": "stdout",
          "text": [
            "3\n"
          ]
        }
      ]
    },
    {
      "cell_type": "markdown",
      "source": [
        "<h2> Author</h2>\n",
        "Maryam Maksour"
      ],
      "metadata": {
        "id": "Nyl-HObr8bjt"
      }
    }
  ]
}